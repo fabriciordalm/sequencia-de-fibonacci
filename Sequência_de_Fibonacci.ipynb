{
  "nbformat": 4,
  "nbformat_minor": 0,
  "metadata": {
    "colab": {
      "name": "Sequência de Fibonacci.ipynb",
      "provenance": [],
      "collapsed_sections": [],
      "authorship_tag": "ABX9TyNG1QnwnaTzrHewZHy0XTE5",
      "include_colab_link": true
    },
    "kernelspec": {
      "name": "python3",
      "display_name": "Python 3"
    },
    "language_info": {
      "name": "python"
    }
  },
  "cells": [
    {
      "cell_type": "markdown",
      "metadata": {
        "id": "view-in-github",
        "colab_type": "text"
      },
      "source": [
        "<a href=\"https://colab.research.google.com/github/fabriciordalm/sequencia-de-fibonacci/blob/main/Sequ%C3%AAncia_de_Fibonacci.ipynb\" target=\"_parent\"><img src=\"https://colab.research.google.com/assets/colab-badge.svg\" alt=\"Open In Colab\"/></a>"
      ]
    },
    {
      "cell_type": "markdown",
      "source": [
        "# Primeiros 20 números da Sequência de Fibonacci\n",
        "## Em duas formas"
      ],
      "metadata": {
        "id": "Wn6tE2R7e9xx"
      }
    },
    {
      "cell_type": "code",
      "execution_count": null,
      "metadata": {
        "colab": {
          "base_uri": "https://localhost:8080/"
        },
        "id": "riHhuYGXcHFY",
        "outputId": "f6e6dc9f-ae6c-420e-9aa8-67070321399d"
      },
      "outputs": [
        {
          "output_type": "stream",
          "name": "stdout",
          "text": [
            "1\n",
            "2\n",
            "3\n",
            "5\n",
            "8\n",
            "13\n",
            "21\n",
            "34\n",
            "55\n",
            "89\n",
            "144\n",
            "233\n",
            "377\n",
            "610\n",
            "987\n",
            "1597\n",
            "2584\n",
            "4181\n",
            "6765\n",
            "10946\n"
          ]
        }
      ],
      "source": [
        "fib = 0\n",
        "a = 0\n",
        "b = 1\n",
        "\n",
        "for i in range(20):\n",
        "    fib = a + b\n",
        "    print(fib)\n",
        "    a, b = b, fib"
      ]
    },
    {
      "cell_type": "code",
      "source": [
        "def sequencia_fib(n):\n",
        "    a, b = 0, 1  \n",
        "\n",
        "    for i in range(n):\n",
        "        fib = a + b\n",
        "        a, b = b, fib\n",
        "\n",
        "    return fib\n",
        "\n",
        "[sequencia_fib(i) for i in range(1, 21)]"
      ],
      "metadata": {
        "colab": {
          "base_uri": "https://localhost:8080/"
        },
        "id": "GdqMcOT7ea4D",
        "outputId": "55d98725-cac9-4180-fd2e-6d45ba395103"
      },
      "execution_count": null,
      "outputs": [
        {
          "output_type": "execute_result",
          "data": {
            "text/plain": [
              "[1,\n",
              " 2,\n",
              " 3,\n",
              " 5,\n",
              " 8,\n",
              " 13,\n",
              " 21,\n",
              " 34,\n",
              " 55,\n",
              " 89,\n",
              " 144,\n",
              " 233,\n",
              " 377,\n",
              " 610,\n",
              " 987,\n",
              " 1597,\n",
              " 2584,\n",
              " 4181,\n",
              " 6765,\n",
              " 10946]"
            ]
          },
          "metadata": {},
          "execution_count": 2
        }
      ]
    }
  ]
}